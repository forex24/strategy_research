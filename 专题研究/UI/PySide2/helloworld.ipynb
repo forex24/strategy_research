{
 "cells": [
  {
   "cell_type": "code",
   "execution_count": 1,
   "id": "fdd489e8",
   "metadata": {},
   "outputs": [
    {
     "name": "stdout",
     "output_type": "stream",
     "text": [
      "5.15.2.1\n",
      "5.15.2\n"
     ]
    }
   ],
   "source": [
    "import PySide2.QtCore\n",
    "\n",
    "# Prints PySide2 version\n",
    "print(PySide2.__version__)\n",
    "\n",
    "# Prints the Qt version used to compile PySide2\n",
    "print(PySide2.QtCore.__version__)"
   ]
  },
  {
   "cell_type": "code",
   "execution_count": 4,
   "id": "a3b44013",
   "metadata": {},
   "outputs": [
    {
     "name": "stdout",
     "output_type": "stream",
     "text": [
      "C:\\Users\\xuezhihuan\\Anaconda3\\lib\\site-packages\\PySide2\\plugins\\platforms\n"
     ]
    }
   ],
   "source": [
    "import sys, os\n",
    "import random\n",
    "\n",
    "import PySide2\n",
    "from PySide2 import QtCore, QtWidgets, QtGui\n",
    "\n",
    "\"\"\" 配置环境变量 QT_QPA_PLATFORM_PLUGIN_PATH \"\"\"\n",
    "dirname = os.path.dirname(PySide2.__file__)\n",
    "plugin_path = os.path.join(dirname, 'plugins', 'platforms')\n",
    "os.environ['QT_QPA_PLATFORM_PLUGIN_PATH'] = plugin_path\n",
    "print(plugin_path)"
   ]
  },
  {
   "cell_type": "code",
   "execution_count": 5,
   "id": "586e1121",
   "metadata": {},
   "outputs": [],
   "source": [
    "class MyWidget(QtWidgets.QWidget):\n",
    "    def __init__(self):\n",
    "        super().__init__()\n",
    "\n",
    "        self.hello = [\"Hallo Welt\", \"Hei maailma\", \"Hola Mundo\", \"Привет мир\"]\n",
    "\n",
    "        self.button = QtWidgets.QPushButton(\"Click me!\")\n",
    "        self.text = QtWidgets.QLabel(\"Hello World\", alignment=QtCore.Qt.AlignCenter)\n",
    "\n",
    "        self.layout = QtWidgets.QVBoxLayout()\n",
    "        self.layout.addWidget(self.text)\n",
    "        self.layout.addWidget(self.button)\n",
    "        \n",
    "        self.setLayout(self.layout)\n",
    "\n",
    "        self.button.clicked.connect(self.magic)\n",
    "\n",
    "    @QtCore.Slot()\n",
    "    def magic(self):\n",
    "        self.text.setText(random.choice(self.hello))\n",
    "        "
   ]
  },
  {
   "cell_type": "code",
   "execution_count": 6,
   "id": "42b97a5e",
   "metadata": {},
   "outputs": [
    {
     "ename": "SystemExit",
     "evalue": "0",
     "output_type": "error",
     "traceback": [
      "An exception has occurred, use %tb to see the full traceback.\n",
      "\u001b[1;31mSystemExit\u001b[0m\u001b[1;31m:\u001b[0m 0\n"
     ]
    },
    {
     "name": "stderr",
     "output_type": "stream",
     "text": [
      "C:\\Users\\xuezhihuan\\Anaconda3\\lib\\site-packages\\IPython\\core\\interactiveshell.py:3445: UserWarning: To exit: use 'exit', 'quit', or Ctrl-D.\n",
      "  warn(\"To exit: use 'exit', 'quit', or Ctrl-D.\", stacklevel=1)\n"
     ]
    }
   ],
   "source": [
    "app = PySide2.QtWidgets.QApplication(sys.argv)\n",
    "\n",
    "widget = MyWidget()\n",
    "widget.resize(360, 360)\n",
    "widget.show()\n",
    "\n",
    "sys.exit(app.exec_())"
   ]
  },
  {
   "cell_type": "code",
   "execution_count": null,
   "id": "1ada345f",
   "metadata": {},
   "outputs": [],
   "source": []
  }
 ],
 "metadata": {
  "kernelspec": {
   "display_name": "Python 3",
   "language": "python",
   "name": "python3"
  },
  "language_info": {
   "codemirror_mode": {
    "name": "ipython",
    "version": 3
   },
   "file_extension": ".py",
   "mimetype": "text/x-python",
   "name": "python",
   "nbconvert_exporter": "python",
   "pygments_lexer": "ipython3",
   "version": "3.8.8"
  },
  "toc": {
   "base_numbering": 1,
   "nav_menu": {},
   "number_sections": true,
   "sideBar": true,
   "skip_h1_title": false,
   "title_cell": "Table of Contents",
   "title_sidebar": "Contents",
   "toc_cell": false,
   "toc_position": {},
   "toc_section_display": true,
   "toc_window_display": false
  }
 },
 "nbformat": 4,
 "nbformat_minor": 5
}
