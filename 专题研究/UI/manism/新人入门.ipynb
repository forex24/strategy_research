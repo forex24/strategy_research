{
 "cells": [
  {
   "cell_type": "code",
   "execution_count": 1,
   "id": "20832c02",
   "metadata": {},
   "outputs": [
    {
     "name": "stdout",
     "output_type": "stream",
     "text": [
      "Collecting manimgl\n",
      "  Downloading manimgl-1.5.0-py38-none-any.whl (223 kB)\n",
      "Requirement already satisfied: matplotlib in c:\\users\\xuezhihuan\\appdata\\roaming\\python\\python38\\site-packages (from manimgl) (3.5.1)\n",
      "Collecting validators\n",
      "  Downloading validators-0.18.2-py3-none-any.whl (19 kB)\n",
      "Collecting skia-pathops\n",
      "  Downloading skia_pathops-0.7.2-cp38-cp38-win_amd64.whl (2.8 MB)\n",
      "Collecting screeninfo\n",
      "  Downloading screeninfo-0.8-py3-none-any.whl (14 kB)\n",
      "Collecting PyOpenGL\n",
      "  Downloading PyOpenGL-3.1.6-py3-none-any.whl (2.4 MB)\n",
      "Requirement already satisfied: ipython in c:\\users\\xuezhihuan\\anaconda3\\lib\\site-packages (from manimgl) (7.22.0)\n",
      "Collecting colour\n",
      "  Downloading colour-0.1.5-py2.py3-none-any.whl (23 kB)\n",
      "Requirement already satisfied: pyyaml in c:\\users\\xuezhihuan\\anaconda3\\lib\\site-packages (from manimgl) (5.4.1)\n",
      "Requirement already satisfied: sympy in c:\\users\\xuezhihuan\\anaconda3\\lib\\site-packages (from manimgl) (1.8)\n",
      "Requirement already satisfied: pydub in c:\\users\\xuezhihuan\\anaconda3\\lib\\site-packages (from manimgl) (0.25.1)\n",
      "Requirement already satisfied: scipy in c:\\users\\xuezhihuan\\anaconda3\\lib\\site-packages (from manimgl) (1.6.2)\n",
      "Collecting rich\n",
      "  Downloading rich-12.0.1-py3-none-any.whl (224 kB)"
     ]
    },
    {
     "name": "stderr",
     "output_type": "stream",
     "text": [
      "ERROR: pip's dependency resolver does not currently take into account all the packages that are installed. This behaviour is the source of the following dependency conflicts.\n",
      "cpgames 0.1.0 requires pyglet==1.3.2, but you have pyglet 1.5.23 which is incompatible.\n"
     ]
    },
    {
     "name": "stdout",
     "output_type": "stream",
     "text": [
      "\n",
      "Collecting mapbox-earcut\n",
      "  Downloading mapbox_earcut-1.0.0-cp38-cp38-win_amd64.whl (68 kB)\n",
      "Collecting svgelements\n",
      "  Downloading svgelements-1.6.11-py2.py3-none-any.whl (117 kB)\n",
      "Collecting moderngl\n",
      "  Downloading moderngl-5.6.4-cp38-cp38-win_amd64.whl (139 kB)\n",
      "Requirement already satisfied: tqdm in c:\\users\\xuezhihuan\\anaconda3\\lib\\site-packages (from manimgl) (4.59.0)\n",
      "Requirement already satisfied: Pillow in c:\\users\\xuezhihuan\\anaconda3\\lib\\site-packages (from manimgl) (8.2.0)\n",
      "Collecting manimpango<0.4.0,>=0.2.0\n",
      "  Downloading ManimPango-0.3.1-cp38-cp38-win_amd64.whl (3.9 MB)\n",
      "Collecting isosurfaces\n",
      "  Downloading isosurfaces-0.1.0-py3-none-any.whl (10 kB)\n",
      "Requirement already satisfied: pygments in c:\\users\\xuezhihuan\\anaconda3\\lib\\site-packages (from manimgl) (2.8.1)\n",
      "Requirement already satisfied: numpy in c:\\users\\xuezhihuan\\anaconda3\\lib\\site-packages (from manimgl) (1.19.3)\n",
      "Collecting moderngl-window\n",
      "  Downloading moderngl_window-2.4.1-py3-none-any.whl (365 kB)\n",
      "Requirement already satisfied: backcall in c:\\users\\xuezhihuan\\anaconda3\\lib\\site-packages (from ipython->manimgl) (0.2.0)\n",
      "Requirement already satisfied: decorator in c:\\users\\xuezhihuan\\anaconda3\\lib\\site-packages (from ipython->manimgl) (4.4.2)\n",
      "Requirement already satisfied: prompt-toolkit!=3.0.0,!=3.0.1,<3.1.0,>=2.0.0 in c:\\users\\xuezhihuan\\anaconda3\\lib\\site-packages (from ipython->manimgl) (3.0.17)\n",
      "Requirement already satisfied: colorama in c:\\users\\xuezhihuan\\anaconda3\\lib\\site-packages (from ipython->manimgl) (0.4.4)\n",
      "Requirement already satisfied: setuptools>=18.5 in c:\\users\\xuezhihuan\\anaconda3\\lib\\site-packages (from ipython->manimgl) (52.0.0.post20210125)\n",
      "Requirement already satisfied: pickleshare in c:\\users\\xuezhihuan\\anaconda3\\lib\\site-packages (from ipython->manimgl) (0.7.5)\n",
      "Requirement already satisfied: traitlets>=4.2 in c:\\users\\xuezhihuan\\anaconda3\\lib\\site-packages (from ipython->manimgl) (5.0.5)\n",
      "Requirement already satisfied: jedi>=0.16 in c:\\users\\xuezhihuan\\anaconda3\\lib\\site-packages (from ipython->manimgl) (0.17.2)\n",
      "Requirement already satisfied: parso<0.8.0,>=0.7.0 in c:\\users\\xuezhihuan\\anaconda3\\lib\\site-packages (from jedi>=0.16->ipython->manimgl) (0.7.0)\n",
      "Requirement already satisfied: wcwidth in c:\\users\\xuezhihuan\\anaconda3\\lib\\site-packages (from prompt-toolkit!=3.0.0,!=3.0.1,<3.1.0,>=2.0.0->ipython->manimgl) (0.2.5)\n",
      "Requirement already satisfied: ipython-genutils in c:\\users\\xuezhihuan\\anaconda3\\lib\\site-packages (from traitlets>=4.2->ipython->manimgl) (0.2.0)\n",
      "Requirement already satisfied: cycler>=0.10 in c:\\users\\xuezhihuan\\anaconda3\\lib\\site-packages (from matplotlib->manimgl) (0.10.0)\n",
      "Requirement already satisfied: kiwisolver>=1.0.1 in c:\\users\\xuezhihuan\\anaconda3\\lib\\site-packages (from matplotlib->manimgl) (1.3.1)\n",
      "Requirement already satisfied: pyparsing>=2.2.1 in c:\\users\\xuezhihuan\\anaconda3\\lib\\site-packages (from matplotlib->manimgl) (2.4.7)\n",
      "Requirement already satisfied: python-dateutil>=2.7 in c:\\users\\xuezhihuan\\anaconda3\\lib\\site-packages (from matplotlib->manimgl) (2.8.1)\n",
      "Requirement already satisfied: packaging>=20.0 in c:\\users\\xuezhihuan\\anaconda3\\lib\\site-packages (from matplotlib->manimgl) (20.9)\n",
      "Requirement already satisfied: fonttools>=4.22.0 in c:\\users\\xuezhihuan\\anaconda3\\lib\\site-packages (from matplotlib->manimgl) (4.28.5)\n",
      "Requirement already satisfied: six in c:\\users\\xuezhihuan\\anaconda3\\lib\\site-packages (from cycler>=0.10->matplotlib->manimgl) (1.15.0)\n",
      "Collecting glcontext<3,>=2\n",
      "  Downloading glcontext-2.3.5-cp38-cp38-win_amd64.whl (12 kB)\n",
      "Collecting pyrr<1,>=0.10.3\n",
      "  Downloading pyrr-0.10.3-py3-none-any.whl (46 kB)\n",
      "Collecting pyglet<2,>=1.5.8\n",
      "  Downloading pyglet-1.5.23-py3-none-any.whl (1.1 MB)\n",
      "Requirement already satisfied: multipledispatch in c:\\users\\xuezhihuan\\anaconda3\\lib\\site-packages (from pyrr<1,>=0.10.3->moderngl-window->manimgl) (0.6.0)\n",
      "Collecting commonmark<0.10.0,>=0.9.0\n",
      "  Downloading commonmark-0.9.1-py2.py3-none-any.whl (51 kB)\n",
      "Requirement already satisfied: mpmath>=0.19 in c:\\users\\xuezhihuan\\anaconda3\\lib\\site-packages (from sympy->manimgl) (1.2.1)\n",
      "Installing collected packages: glcontext, pyrr, pyglet, moderngl, commonmark, validators, svgelements, skia-pathops, screeninfo, rich, PyOpenGL, moderngl-window, mapbox-earcut, manimpango, isosurfaces, colour, manimgl\n",
      "  Attempting uninstall: pyglet\n",
      "    Found existing installation: pyglet 1.3.2\n",
      "    Uninstalling pyglet-1.3.2:\n",
      "      Successfully uninstalled pyglet-1.3.2\n",
      "Successfully installed PyOpenGL-3.1.6 colour-0.1.5 commonmark-0.9.1 glcontext-2.3.5 isosurfaces-0.1.0 manimgl-1.5.0 manimpango-0.3.1 mapbox-earcut-1.0.0 moderngl-5.6.4 moderngl-window-2.4.1 pyglet-1.5.23 pyrr-0.10.3 rich-12.0.1 screeninfo-0.8 skia-pathops-0.7.2 svgelements-1.6.11 validators-0.18.2\n"
     ]
    }
   ],
   "source": [
    "!pip install manimgl"
   ]
  },
  {
   "cell_type": "markdown",
   "id": "eca7397e",
   "metadata": {},
   "source": [
    "# 新手入门"
   ]
  },
  {
   "cell_type": "code",
   "execution_count": 6,
   "id": "60fcf32f",
   "metadata": {
    "scrolled": true
   },
   "outputs": [
    {
     "name": "stdout",
     "output_type": "stream",
     "text": [
      "ManimGL \u001b[32mv1.5.0\u001b[0m\n",
      "[18:58:46] INFO     Using the default configuration file, which   config.py:265\n",
      "                    you can modify in `c:\\users\\xuezhihuan\\anacon              \n",
      "                    da3\\lib\\site-packages\\manimlib\\default_config              \n",
      "                    .yml`                                                      \n",
      "           INFO     If you want to create a local configuration   config.py:266\n",
      "                    file, you can create a file named                          \n",
      "                    `custom_config.yml`, or run `manimgl                       \n",
      "                    --config`                                                  \n",
      "           WARNING  You may be using Windows platform and have    config.py:232\n",
      "                    not specified the path of                                  \n",
      "                    `temporary_storage`, which may cause OSError.              \n",
      "                    So it is recommended to specify the                        \n",
      "                    `temporary_storage` in the config file (.yml)              \n",
      "[18:58:50] INFO     Tips: Now the embed iPython terminal is open.  scene.py:141\n",
      "                    But you can't interact with the window                     \n",
      "                    directly. To do so, you need to type `touch()`             \n",
      "                    or `self.interact()`                                       \n",
      "Python 3.8.8 (default, Apr 13 2021, 15:08:03) [MSC v.1916 64 bit (AMD64)]\n",
      "Type 'copyright', 'credits' or 'license' for more information\n",
      "IPython 7.22.0 -- An enhanced Interactive Python. Type '?' for help.\n",
      "\n",
      "In [1]: \n"
     ]
    },
    {
     "name": "stderr",
     "output_type": "stream",
     "text": [
      "\n",
      "0 ShowCreationSquare:   0%|          | 0/30 [00:00<?, ?it/s]\n",
      "0 ShowCreationSquare:   3%|3         | 1/30 [00:00<00:07,  3.75it/s]\n",
      "0 ShowCreationSquare:  20%|##        | 6/30 [00:00<00:01, 19.21it/s]\n",
      "0 ShowCreationSquare:  43%|####3     | 13/30 [00:00<00:00, 33.80it/s]\n",
      "0 ShowCreationSquare:  67%|######6   | 20/30 [00:00<00:00, 40.79it/s]\n",
      "0 ShowCreationSquare:  83%|########3 | 25/30 [00:00<00:00, 36.49it/s]\n",
      "0 ShowCreationSquare: 100%|##########| 30/30 [00:00<00:00, 34.12it/s]\n",
      "                                                                     \n",
      "\n",
      "1 Waiting:   0%|          | 0/30 [00:00<?, ?it/s]\n",
      "1 Waiting:  13%|#3        | 4/30 [00:00<00:00, 34.95it/s]\n",
      "1 Waiting:  27%|##6       | 8/30 [00:00<00:00, 34.21it/s]\n",
      "1 Waiting:  40%|####      | 12/30 [00:00<00:00, 30.43it/s]\n",
      "1 Waiting:  53%|#####3    | 16/30 [00:00<00:00, 30.26it/s]\n",
      "1 Waiting:  67%|######6   | 20/30 [00:00<00:00, 30.14it/s]\n",
      "1 Waiting:  80%|########  | 24/30 [00:00<00:00, 30.09it/s]\n",
      "1 Waiting:  93%|#########3| 28/30 [00:00<00:00, 30.08it/s]\n",
      "                                                          \n",
      "\n",
      "2 ReplacementTransformSquare:   0%|          | 0/30 [00:00<?, ?it/s]\n",
      "2 ReplacementTransformSquare:   7%|6         | 2/30 [00:00<00:02, 12.22it/s]\n",
      "2 ReplacementTransformSquare:  27%|##6       | 8/30 [00:00<00:00, 34.41it/s]\n",
      "2 ReplacementTransformSquare:  43%|####3     | 13/30 [00:00<00:00, 33.85it/s]\n",
      "2 ReplacementTransformSquare:  57%|#####6    | 17/30 [00:00<00:00, 32.31it/s]\n",
      "2 ReplacementTransformSquare:  70%|#######   | 21/30 [00:00<00:00, 32.96it/s]\n",
      "2 ReplacementTransformSquare:  83%|########3 | 25/30 [00:00<00:00, 30.64it/s]\n",
      "2 ReplacementTransformSquare:  97%|#########6| 29/30 [00:00<00:00, 31.69it/s]\n",
      "                                                                             \n",
      "\n",
      "3 Waiting:   0%|          | 0/30 [00:00<?, ?it/s]\n",
      "3 Waiting:  17%|#6        | 5/30 [00:00<00:00, 38.00it/s]\n",
      "3 Waiting:  30%|###       | 9/30 [00:00<00:00, 32.50it/s]\n",
      "3 Waiting:  43%|####3     | 13/30 [00:00<00:00, 31.93it/s]\n",
      "3 Waiting:  57%|#####6    | 17/30 [00:00<00:00, 31.10it/s]\n",
      "3 Waiting:  70%|#######   | 21/30 [00:00<00:00, 30.58it/s]\n",
      "3 Waiting:  83%|########3 | 25/30 [00:00<00:00, 30.50it/s]\n",
      "3 Waiting:  97%|#########6| 29/30 [00:00<00:00, 30.38it/s]\n",
      "                                                          \n",
      "c:\\users\\xuezhihuan\\anaconda3\\lib\\site-packages\\IPython\\terminal\\embed.py:285: UserWarning: Failed to get module start\n",
      "  warnings.warn(\"Failed to get module %s\" % \\\n"
     ]
    }
   ],
   "source": [
    "! manimgl start.py SquareToCircle"
   ]
  },
  {
   "cell_type": "code",
   "execution_count": 5,
   "id": "d3e4b50f",
   "metadata": {
    "scrolled": true
   },
   "outputs": [
    {
     "name": "stdout",
     "output_type": "stream",
     "text": [
      "ManimGL \u001b[32mv1.5.0\u001b[0m"
     ]
    },
    {
     "name": "stderr",
     "output_type": "stream",
     "text": [
      "\n",
      "  0%|          | 0/120 [00:00<?, ?it/s]\n",
      "Rendering SquareToCircle.mp4 (0 ShowCreationSquare)         :   0%|          | 0/120 [00:00<?, ?it/s]\n",
      "Rendering SquareToCircle.mp4 (0 ShowCreationSquare)         :   1%|          | 1/120 [00:00<00:38,  3.11it/s]\n",
      "Rendering SquareToCircle.mp4 (0 ShowCreationSquare)         :   4%|4         | 5/120 [00:00<00:08, 14.18it/s]\n",
      "Rendering SquareToCircle.mp4 (0 ShowCreationSquare)         :   9%|9         | 11/120 [00:00<00:04, 26.76it/s]\n",
      "Rendering SquareToCircle.mp4 (0 ShowCreationSquare)         :  13%|#3        | 16/120 [00:00<00:03, 33.22it/s]\n",
      "Rendering SquareToCircle.mp4 (0 ShowCreationSquare)         :  18%|#7        | 21/120 [00:00<00:02, 36.96it/s]\n",
      "Rendering SquareToCircle.mp4 (0 ShowCreationSquare)         :  22%|##1       | 26/120 [00:00<00:02, 39.88it/s]\n",
      "Rendering SquareToCircle.mp4 (1 Waiting)                    :  25%|##5       | 30/120 [00:00<00:02, 39.88it/s]\n",
      "Rendering SquareToCircle.mp4 (1 Waiting)                    :  26%|##5       | 31/120 [00:00<00:02, 42.01it/s]\n",
      "Rendering SquareToCircle.mp4 (1 Waiting)                    :  30%|###       | 36/120 [00:01<00:01, 43.94it/s]\n",
      "Rendering SquareToCircle.mp4 (1 Waiting)                    :  34%|###4      | 41/120 [00:01<00:01, 44.96it/s]\n",
      "Rendering SquareToCircle.mp4 (1 Waiting)                    :  38%|###8      | 46/120 [00:01<00:01, 45.97it/s]\n",
      "Rendering SquareToCircle.mp4 (1 Waiting)                    :  42%|####2     | 51/120 [00:01<00:01, 37.20it/s]\n",
      "Rendering SquareToCircle.mp4 (1 Waiting)                    :  47%|####6     | 56/120 [00:01<00:01, 39.60it/s]\n",
      "Rendering SquareToCircle.mp4 (2 ReplacementTransformSquare) :  50%|#####     | 60/120 [00:01<00:01, 39.60it/s]\n",
      "Rendering SquareToCircle.mp4 (2 ReplacementTransformSquare) :  51%|#####     | 61/120 [00:01<00:01, 33.23it/s]\n",
      "Rendering SquareToCircle.mp4 (2 ReplacementTransformSquare) :  54%|#####4    | 65/120 [00:02<00:02, 19.29it/s]\n",
      "Rendering SquareToCircle.mp4 (2 ReplacementTransformSquare) :  57%|#####6    | 68/120 [00:02<00:02, 20.47it/s]\n",
      "Rendering SquareToCircle.mp4 (2 ReplacementTransformSquare) :  59%|#####9    | 71/120 [00:02<00:02, 21.58it/s]\n",
      "Rendering SquareToCircle.mp4 (2 ReplacementTransformSquare) :  62%|######1   | 74/120 [00:02<00:02, 22.60it/s]\n",
      "Rendering SquareToCircle.mp4 (2 ReplacementTransformSquare) :  64%|######4   | 77/120 [00:02<00:01, 23.79it/s]\n",
      "Rendering SquareToCircle.mp4 (2 ReplacementTransformSquare) :  67%|######6   | 80/120 [00:02<00:01, 24.91it/s]\n",
      "Rendering SquareToCircle.mp4 (2 ReplacementTransformSquare) :  69%|######9   | 83/120 [00:02<00:01, 25.74it/s]\n",
      "Rendering SquareToCircle.mp4 (2 ReplacementTransformSquare) :  72%|#######1  | 86/120 [00:03<00:01, 26.35it/s]\n",
      "Rendering SquareToCircle.mp4 (2 ReplacementTransformSquare) :  74%|#######4  | 89/120 [00:03<00:01, 26.28it/s]\n",
      "Rendering SquareToCircle.mp4 (3 Waiting)                    :  75%|#######5  | 90/120 [00:03<00:01, 26.28it/s]\n",
      "Rendering SquareToCircle.mp4 (3 Waiting)                    :  77%|#######6  | 92/120 [00:03<00:01, 25.69it/s]\n",
      "Rendering SquareToCircle.mp4 (3 Waiting)                    :  79%|#######9  | 95/120 [00:03<00:00, 26.12it/s]\n",
      "Rendering SquareToCircle.mp4 (3 Waiting)                    :  82%|########1 | 98/120 [00:03<00:00, 26.84it/s]\n",
      "Rendering SquareToCircle.mp4 (3 Waiting)                    :  84%|########4 | 101/120 [00:03<00:00, 27.47it/s]\n",
      "Rendering SquareToCircle.mp4 (3 Waiting)                    :  88%|########7 | 105/120 [00:03<00:00, 28.52it/s]\n",
      "Rendering SquareToCircle.mp4 (3 Waiting)                    :  90%|######### | 108/120 [00:03<00:00, 28.87it/s]\n",
      "Rendering SquareToCircle.mp4 (3 Waiting)                    :  92%|#########2| 111/120 [00:03<00:00, 29.13it/s]\n",
      "Rendering SquareToCircle.mp4 (3 Waiting)                    :  95%|#########5| 114/120 [00:04<00:00, 29.25it/s]\n",
      "Rendering SquareToCircle.mp4 (3 Waiting)                    :  98%|#########7| 117/120 [00:04<00:00, 29.23it/s]\n",
      "Rendering SquareToCircle.mp4 (3 Waiting)                    : 100%|##########| 120/120 [00:04<00:00, 28.37it/s]\n",
      "                                                                                                               \n"
     ]
    },
    {
     "name": "stdout",
     "output_type": "stream",
     "text": [
      "\n",
      "[18:57:11] INFO     Using the default configuration file, which   config.py:265\n",
      "                    you can modify in `c:\\users\\xuezhihuan\\anacon              \n",
      "                    da3\\lib\\site-packages\\manimlib\\default_config              \n",
      "                    .yml`                                                      \n",
      "           INFO     If you want to create a local configuration   config.py:266\n",
      "                    file, you can create a file named                          \n",
      "                    `custom_config.yml`, or run `manimgl                       \n",
      "                    --config`                                                  \n",
      "           WARNING  You may be using Windows platform and have    config.py:232\n",
      "                    not specified the path of                                  \n",
      "                    `temporary_storage`, which may cause OSError.              \n",
      "                    So it is recommended to specify the                        \n",
      "                    `temporary_storage` in the config file (.yml)              \n",
      "[18:57:18] INFO     File ready at D:\\codes\\MyCodes\\my- scene_file_writer.py:337\n",
      "                    over-sea-cloud\\UI\\manism\\videos\\Sq                         \n",
      "                    uareToCircle.mp4                                           \n"
     ]
    }
   ],
   "source": [
    "! manimgl start.py SquareToCircle -ow"
   ]
  },
  {
   "cell_type": "code",
   "execution_count": null,
   "id": "f6705a18",
   "metadata": {},
   "outputs": [],
   "source": [
    "# 在水平方向上拉伸到四倍\n",
    "play(circle.stretch, 4, {\"dim\": 0})\n",
    "# 旋转90°\n",
    "play(Rotate(circle, TAU / 4))\n",
    "# 在向右移动2单位同时缩小为原来的1/4\n",
    "play(circle.shift, 2 * RIGHT, circle.scale, 0.25)\n",
    "# 为了非线性变换，给circle增加10段曲线（不会播放动画）\n",
    "circle.insert_n_curves(10)\n",
    "# 给circle上的所有点施加f(z)=z^2的复变换\n",
    "play(circle.apply_complex_function, lambda z: z**2)\n",
    "# 关闭窗口并退出程序\n",
    "exit()"
   ]
  }
 ],
 "metadata": {
  "kernelspec": {
   "display_name": "Python 3",
   "language": "python",
   "name": "python3"
  },
  "language_info": {
   "codemirror_mode": {
    "name": "ipython",
    "version": 3
   },
   "file_extension": ".py",
   "mimetype": "text/x-python",
   "name": "python",
   "nbconvert_exporter": "python",
   "pygments_lexer": "ipython3",
   "version": "3.8.8"
  },
  "toc": {
   "base_numbering": 1,
   "nav_menu": {},
   "number_sections": true,
   "sideBar": true,
   "skip_h1_title": false,
   "title_cell": "Table of Contents",
   "title_sidebar": "Contents",
   "toc_cell": false,
   "toc_position": {},
   "toc_section_display": true,
   "toc_window_display": false
  }
 },
 "nbformat": 4,
 "nbformat_minor": 5
}
