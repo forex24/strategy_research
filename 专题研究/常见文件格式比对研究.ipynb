{
 "cells": [
  {
   "cell_type": "markdown",
   "metadata": {},
   "source": [
    "- Reference: https://www.cnblogs.com/harrylyx/p/15141986.html"
   ]
  },
  {
   "cell_type": "markdown",
   "metadata": {},
   "source": [
    "# pip install 非默认包"
   ]
  },
  {
   "cell_type": "code",
   "execution_count": 4,
   "metadata": {},
   "outputs": [
    {
     "name": "stdout",
     "output_type": "stream",
     "text": [
      "Looking in indexes: https://pypi.tuna.tsinghua.edu.cn/simple\n",
      "Requirement already satisfied: pyarrow in c:\\programdata\\anaconda3\\lib\\site-packages (7.0.0)\n",
      "Requirement already satisfied: numpy>=1.16.6 in c:\\programdata\\anaconda3\\lib\\site-packages (from pyarrow) (1.21.5)\n"
     ]
    },
    {
     "name": "stderr",
     "output_type": "stream",
     "text": [
      "WARNING: Ignoring invalid distribution -cikit-learn (c:\\programdata\\anaconda3\\lib\\site-packages)\n",
      "WARNING: Ignoring invalid distribution -cikit-learn (c:\\programdata\\anaconda3\\lib\\site-packages)\n",
      "WARNING: Ignoring invalid distribution -cikit-learn (c:\\programdata\\anaconda3\\lib\\site-packages)\n",
      "WARNING: Ignoring invalid distribution -cikit-learn (c:\\programdata\\anaconda3\\lib\\site-packages)\n",
      "WARNING: Ignoring invalid distribution -cikit-learn (c:\\programdata\\anaconda3\\lib\\site-packages)\n",
      "WARNING: Ignoring invalid distribution -cikit-learn (c:\\programdata\\anaconda3\\lib\\site-packages)\n",
      "WARNING: You are using pip version 22.0.3; however, version 22.0.4 is available.\n",
      "You should consider upgrading via the 'C:\\ProgramData\\Anaconda3\\python.exe -m pip install --upgrade pip' command.\n"
     ]
    },
    {
     "name": "stdout",
     "output_type": "stream",
     "text": [
      "Looking in indexes: https://pypi.tuna.tsinghua.edu.cn/simple\n",
      "Requirement already satisfied: fastparquet in c:\\programdata\\anaconda3\\lib\\site-packages (0.8.0)\n",
      "Requirement already satisfied: numpy>=1.18 in c:\\programdata\\anaconda3\\lib\\site-packages (from fastparquet) (1.21.5)\n",
      "Requirement already satisfied: pandas>=1.1.0 in c:\\programdata\\anaconda3\\lib\\site-packages (from fastparquet) (1.1.5)\n",
      "Requirement already satisfied: cramjam>=2.3.0 in c:\\programdata\\anaconda3\\lib\\site-packages (from fastparquet) (2.5.0)\n",
      "Requirement already satisfied: fsspec in c:\\programdata\\anaconda3\\lib\\site-packages (from fastparquet) (2022.2.0)\n",
      "Requirement already satisfied: pytz>=2017.2 in c:\\programdata\\anaconda3\\lib\\site-packages (from pandas>=1.1.0->fastparquet) (2018.5)\n",
      "Requirement already satisfied: python-dateutil>=2.7.3 in c:\\programdata\\anaconda3\\lib\\site-packages (from pandas>=1.1.0->fastparquet) (2.7.3)\n",
      "Requirement already satisfied: six>=1.5 in c:\\programdata\\anaconda3\\lib\\site-packages (from python-dateutil>=2.7.3->pandas>=1.1.0->fastparquet) (1.11.0)\n"
     ]
    },
    {
     "name": "stderr",
     "output_type": "stream",
     "text": [
      "WARNING: Ignoring invalid distribution -cikit-learn (c:\\programdata\\anaconda3\\lib\\site-packages)\n",
      "WARNING: Ignoring invalid distribution -cikit-learn (c:\\programdata\\anaconda3\\lib\\site-packages)\n",
      "WARNING: Ignoring invalid distribution -cikit-learn (c:\\programdata\\anaconda3\\lib\\site-packages)\n",
      "WARNING: Ignoring invalid distribution -cikit-learn (c:\\programdata\\anaconda3\\lib\\site-packages)\n",
      "WARNING: Ignoring invalid distribution -cikit-learn (c:\\programdata\\anaconda3\\lib\\site-packages)\n",
      "WARNING: Ignoring invalid distribution -cikit-learn (c:\\programdata\\anaconda3\\lib\\site-packages)\n",
      "WARNING: You are using pip version 22.0.3; however, version 22.0.4 is available.\n",
      "You should consider upgrading via the 'C:\\ProgramData\\Anaconda3\\python.exe -m pip install --upgrade pip' command.\n"
     ]
    }
   ],
   "source": [
    "! pip install -i https://pypi.tuna.tsinghua.edu.cn/simple pyarrow\n",
    "! pip install -i https://pypi.tuna.tsinghua.edu.cn/simple fastparquet"
   ]
  },
  {
   "cell_type": "code",
   "execution_count": 5,
   "metadata": {},
   "outputs": [],
   "source": [
    "import random\n",
    "import string\n",
    "import pickle\n",
    "\n",
    "import numpy as np\n",
    "import pandas as pd\n",
    "\n",
    "import tables\n",
    "\n",
    "import pyarrow as pa\n",
    "import pyarrow.feather as feather\n",
    "import pyarrow.parquet as pq\n",
    "\n",
    "import fastparquet as fp"
   ]
  },
  {
   "cell_type": "markdown",
   "metadata": {},
   "source": [
    "# 生成随机数据"
   ]
  },
  {
   "cell_type": "markdown",
   "metadata": {},
   "source": [
    "- Reference: http://t.zoukankan.com/harrylyx-p-15141986.html"
   ]
  },
  {
   "cell_type": "code",
   "execution_count": 6,
   "metadata": {},
   "outputs": [
    {
     "name": "stdout",
     "output_type": "stream",
     "text": [
      "<class 'pandas.core.frame.DataFrame'>\n",
      "RangeIndex: 10000000 entries, 0 to 9999999\n",
      "Data columns (total 15 columns):\n",
      " #   Column   Dtype  \n",
      "---  ------   -----  \n",
      " 0   int_0    int32  \n",
      " 1   int_1    int32  \n",
      " 2   int_2    int32  \n",
      " 3   int_3    int32  \n",
      " 4   int_4    int32  \n",
      " 5   float_0  float64\n",
      " 6   float_1  float64\n",
      " 7   float_2  float64\n",
      " 8   float_3  float64\n",
      " 9   float_4  float64\n",
      " 10  str_0    object \n",
      " 11  str_1    object \n",
      " 12  str_2    object \n",
      " 13  str_3    object \n",
      " 14  str_4    object \n",
      "dtypes: float64(5), int32(5), object(5)\n",
      "memory usage: 953.7+ MB\n",
      "None\n"
     ]
    }
   ],
   "source": [
    "# 变量定义\n",
    "row_num = int(1e7)\n",
    "col_num = 5\n",
    "str_len = 4\n",
    "str_nunique = 10 # 字符串组合数量\n",
    "\n",
    "# 生成随机整数构成的DataFrame\n",
    "int_matrix = np.random.randint(0, 100, size=(row_num, col_num))\n",
    "df = pd.DataFrame(int_matrix, columns=['int_%d' % i for i in range(col_num)])\n",
    "\n",
    "# 生成随机小数构成的DataFrame\n",
    "float_matrix = np.random.rand(row_num, col_num)\n",
    "df = pd.concat(\n",
    "    (df, pd.DataFrame(float_matrix, columns=['float_%d' % i for i in range(col_num)])), axis=1)\n",
    "\n",
    "# 生成随机字符串构成的DataFrame\n",
    "str_list = [''.join(random.sample(string.ascii_letters, str_len)) for _ in range(str_nunique)]\n",
    "for i in range(col_num):\n",
    "    sr = pd.Series(str_list*(row_num//str_nunique)).sample(frac=1, random_state=i)\n",
    "    df['str_%d' % i] = sr\n",
    "\n",
    "# 合并在一起的DataFrame的大小\n",
    "print(df.info())"
   ]
  },
  {
   "cell_type": "markdown",
   "metadata": {},
   "source": [
    "# 定义file_format_dict"
   ]
  },
  {
   "cell_type": "code",
   "execution_count": 7,
   "metadata": {},
   "outputs": [
    {
     "name": "stdout",
     "output_type": "stream",
     "text": [
      "dict_keys(['csv', 'csv+gz', 'csv+zip', 'pkl', 'npy', 'hdf', 'hdf+zlib+lvl9', 'parquet', 'feather'])\n",
      "dict_values(['df_csv.csv', 'df_csv.csv.gz', 'df_csv.csv.zip', 'df_pkl.pkl', 'df_npy.npy', 'df_hdf.h5', 'df_hdf_comp_lvl9.h5', 'df_parquet.parquet', 'df_feather.feather'])\n"
     ]
    }
   ],
   "source": [
    "file_format_dict = {\n",
    "    'csv':           'df_csv.csv', \n",
    "    'csv+gz':        'df_csv.csv.gz', \n",
    "    'csv+zip':       'df_csv.csv.zip', \n",
    "    'pkl':           'df_pkl.pkl', \n",
    "    'npy':           'df_npy.npy', \n",
    "    'hdf':           'df_hdf.h5', \n",
    "    'hdf+zlib+lvl9': 'df_hdf_comp_lvl9.h5',\n",
    "    'parquet':       'df_parquet.parquet', \n",
    "    'feather':       'df_feather.feather'\n",
    "}\n",
    "\n",
    "print(file_format_dict.keys())\n",
    "print(file_format_dict.values())"
   ]
  },
  {
   "cell_type": "markdown",
   "metadata": {},
   "source": [
    "# 保存文件"
   ]
  },
  {
   "cell_type": "markdown",
   "metadata": {},
   "source": [
    "## csv"
   ]
  },
  {
   "cell_type": "code",
   "execution_count": 8,
   "metadata": {},
   "outputs": [
    {
     "name": "stdout",
     "output_type": "stream",
     "text": [
      "Wall time: 1min 1s\n"
     ]
    }
   ],
   "source": [
    "# 写入\n",
    "f_name = file_format_dict['csv']\n",
    "%time df.to_csv(f_name, index=False)"
   ]
  },
  {
   "cell_type": "markdown",
   "metadata": {},
   "source": [
    "## csv+gz"
   ]
  },
  {
   "cell_type": "code",
   "execution_count": 9,
   "metadata": {},
   "outputs": [
    {
     "name": "stdout",
     "output_type": "stream",
     "text": [
      "Wall time: 3min 3s\n"
     ]
    }
   ],
   "source": [
    "# 写入\n",
    "f_name = file_format_dict['csv+gz']\n",
    "%time df.to_csv(f_name, index=False, compression='gzip')"
   ]
  },
  {
   "cell_type": "markdown",
   "metadata": {},
   "source": [
    "## csv+zip"
   ]
  },
  {
   "cell_type": "code",
   "execution_count": 10,
   "metadata": {},
   "outputs": [
    {
     "name": "stdout",
     "output_type": "stream",
     "text": [
      "Wall time: 2min 9s\n"
     ]
    }
   ],
   "source": [
    "# 写入\n",
    "f_name = file_format_dict['csv+zip']\n",
    "%time df.to_csv(f_name, index=False, compression='zip')"
   ]
  },
  {
   "cell_type": "markdown",
   "metadata": {},
   "source": [
    "## pkl"
   ]
  },
  {
   "cell_type": "code",
   "execution_count": 11,
   "metadata": {},
   "outputs": [
    {
     "name": "stdout",
     "output_type": "stream",
     "text": [
      "Wall time: 2.17 s\n"
     ]
    }
   ],
   "source": [
    "# 写入\n",
    "f_name = file_format_dict['pkl']\n",
    "%time  with open(f_name, 'wb') as f: pickle.dump(df, f)"
   ]
  },
  {
   "cell_type": "markdown",
   "metadata": {},
   "source": [
    "## npy"
   ]
  },
  {
   "cell_type": "code",
   "execution_count": 12,
   "metadata": {},
   "outputs": [
    {
     "name": "stdout",
     "output_type": "stream",
     "text": [
      "Wall time: 7.46 s\n"
     ]
    }
   ],
   "source": [
    "# 写入\n",
    "f_name = file_format_dict['npy']\n",
    "%time with open(f_name, \"wb\") as f:   np.save(f, arr=df.values)"
   ]
  },
  {
   "cell_type": "markdown",
   "metadata": {},
   "source": [
    "## hdf"
   ]
  },
  {
   "cell_type": "code",
   "execution_count": 13,
   "metadata": {},
   "outputs": [
    {
     "name": "stdout",
     "output_type": "stream",
     "text": [
      "Wall time: 2.94 s\n"
     ]
    }
   ],
   "source": [
    "# 写入\n",
    "f_name = file_format_dict['hdf']\n",
    "%time df.to_hdf(f_name, key='df')"
   ]
  },
  {
   "cell_type": "markdown",
   "metadata": {},
   "source": [
    "## hdf+zlib+level9"
   ]
  },
  {
   "cell_type": "code",
   "execution_count": 14,
   "metadata": {},
   "outputs": [
    {
     "name": "stdout",
     "output_type": "stream",
     "text": [
      "Wall time: 11.3 s\n"
     ]
    }
   ],
   "source": [
    "# 写入\n",
    "f_name = file_format_dict['hdf+zlib+lvl9']\n",
    "%time df.to_hdf(f_name, complevel=9, key='df')"
   ]
  },
  {
   "cell_type": "markdown",
   "metadata": {},
   "source": [
    "## parquet"
   ]
  },
  {
   "cell_type": "code",
   "execution_count": 15,
   "metadata": {},
   "outputs": [
    {
     "name": "stdout",
     "output_type": "stream",
     "text": [
      "Wall time: 5.17 s\n"
     ]
    }
   ],
   "source": [
    "# 写入\n",
    "f_name = file_format_dict['parquet']\n",
    "%time pq.write_table(pa.Table.from_pandas(df), f_name)"
   ]
  },
  {
   "cell_type": "markdown",
   "metadata": {},
   "source": [
    "## feather"
   ]
  },
  {
   "cell_type": "code",
   "execution_count": 16,
   "metadata": {},
   "outputs": [
    {
     "name": "stdout",
     "output_type": "stream",
     "text": [
      "Wall time: 2.38 s\n"
     ]
    }
   ],
   "source": [
    "# 写入\n",
    "f_name = file_format_dict['feather']\n",
    "%time feather.write_feather(df, f_name)"
   ]
  },
  {
   "cell_type": "markdown",
   "metadata": {},
   "source": [
    "# 读取文件"
   ]
  },
  {
   "cell_type": "markdown",
   "metadata": {},
   "source": [
    "## csv"
   ]
  },
  {
   "cell_type": "code",
   "execution_count": 17,
   "metadata": {},
   "outputs": [
    {
     "name": "stdout",
     "output_type": "stream",
     "text": [
      "Wall time: 10.1 s\n"
     ]
    }
   ],
   "source": [
    "# 读取\n",
    "f_name = file_format_dict['csv']\n",
    "%time df = pd.read_csv(f_name)"
   ]
  },
  {
   "cell_type": "markdown",
   "metadata": {},
   "source": [
    "## csv+gv"
   ]
  },
  {
   "cell_type": "code",
   "execution_count": 18,
   "metadata": {},
   "outputs": [
    {
     "name": "stdout",
     "output_type": "stream",
     "text": [
      "Wall time: 15.5 s\n"
     ]
    }
   ],
   "source": [
    "# 读取\n",
    "f_name = file_format_dict['csv+gz']\n",
    "%time df = pd.read_csv(f_name, compression='gzip')"
   ]
  },
  {
   "cell_type": "markdown",
   "metadata": {},
   "source": [
    "## csv+zip"
   ]
  },
  {
   "cell_type": "code",
   "execution_count": 19,
   "metadata": {},
   "outputs": [
    {
     "name": "stdout",
     "output_type": "stream",
     "text": [
      "Wall time: 14.4 s\n"
     ]
    }
   ],
   "source": [
    "# 读取\n",
    "f_name = file_format_dict['csv+zip']\n",
    "%time df = pd.read_csv(f_name, compression='zip')"
   ]
  },
  {
   "cell_type": "markdown",
   "metadata": {},
   "source": [
    "## pkl"
   ]
  },
  {
   "cell_type": "code",
   "execution_count": 20,
   "metadata": {},
   "outputs": [
    {
     "name": "stdout",
     "output_type": "stream",
     "text": [
      "Wall time: 2.5 s\n"
     ]
    }
   ],
   "source": [
    "# 读取\n",
    "f_name = file_format_dict['pkl']\n",
    "%time with open(f_name, 'rb') as f:   df = pickle.load(f)"
   ]
  },
  {
   "cell_type": "markdown",
   "metadata": {},
   "source": [
    "## npy"
   ]
  },
  {
   "cell_type": "code",
   "execution_count": 21,
   "metadata": {},
   "outputs": [
    {
     "name": "stdout",
     "output_type": "stream",
     "text": [
      "Wall time: 9.47 s\n"
     ]
    }
   ],
   "source": [
    "# 读取\n",
    "f_name = file_format_dict['npy']\n",
    "%time with open(f_name, \"rb\") as f: df_array = np.load(f, allow_pickle=True);   df = pd.DataFrame(df_array)"
   ]
  },
  {
   "cell_type": "markdown",
   "metadata": {},
   "source": [
    "## hdf"
   ]
  },
  {
   "cell_type": "code",
   "execution_count": 22,
   "metadata": {},
   "outputs": [
    {
     "name": "stdout",
     "output_type": "stream",
     "text": [
      "Wall time: 7.35 s\n"
     ]
    }
   ],
   "source": [
    "# 读取\n",
    "f_name = file_format_dict['hdf']\n",
    "%time df = pd.read_hdf(f_name, key='df')"
   ]
  },
  {
   "cell_type": "markdown",
   "metadata": {},
   "source": [
    "## hdf+zlib+level9"
   ]
  },
  {
   "cell_type": "code",
   "execution_count": 23,
   "metadata": {},
   "outputs": [
    {
     "name": "stdout",
     "output_type": "stream",
     "text": [
      "Wall time: 4.87 s\n"
     ]
    }
   ],
   "source": [
    "# 读取\n",
    "f_name = file_format_dict['hdf+zlib+lvl9']\n",
    "%time df = pd.read_hdf(f_name, key='df')"
   ]
  },
  {
   "cell_type": "markdown",
   "metadata": {},
   "source": [
    "## parquet"
   ]
  },
  {
   "cell_type": "code",
   "execution_count": 24,
   "metadata": {},
   "outputs": [
    {
     "name": "stdout",
     "output_type": "stream",
     "text": [
      "Wall time: 3.74 s\n"
     ]
    }
   ],
   "source": [
    "# 读取\n",
    "f_name = file_format_dict['parquet']\n",
    "%time df = pq.read_table(f_name).to_pandas()"
   ]
  },
  {
   "cell_type": "markdown",
   "metadata": {},
   "source": [
    "## feather"
   ]
  },
  {
   "cell_type": "code",
   "execution_count": 25,
   "metadata": {},
   "outputs": [
    {
     "name": "stdout",
     "output_type": "stream",
     "text": [
      "Wall time: 1.82 s\n"
     ]
    }
   ],
   "source": [
    "# 读取\n",
    "f_name = file_format_dict['feather']\n",
    "%time df = feather.read_feather(f_name)"
   ]
  },
  {
   "cell_type": "markdown",
   "metadata": {},
   "source": [
    "# Compare"
   ]
  },
  {
   "cell_type": "markdown",
   "metadata": {},
   "source": [
    "## 获取file size"
   ]
  },
  {
   "cell_type": "code",
   "execution_count": 26,
   "metadata": {},
   "outputs": [
    {
     "data": {
      "text/plain": [
       "['df_csv.csv：1305.1MB',\n",
       " 'df_csv.csv.gz：517.82MB',\n",
       " 'df_csv.csv.zip：520.17MB',\n",
       " 'df_pkl.pkl：667.67MB',\n",
       " 'df_npy.npy：620.17MB',\n",
       " 'df_hdf.h5：744.99MB',\n",
       " 'df_hdf_comp_lvl9.h5：459.22MB',\n",
       " 'df_parquet.parquet：425.82MB',\n",
       " 'df_feather.feather：661.36MB']"
      ]
     },
     "execution_count": 26,
     "metadata": {},
     "output_type": "execute_result"
    }
   ],
   "source": [
    "import os\n",
    "\n",
    "def get_file_mb_size(path):\n",
    "    byte_size = os.path.getsize(path)\n",
    "    mb_size = byte_size/(1024*1024)\n",
    "    return '{}：{}MB'.format(path, round(mb_size, 2))\n",
    "\n",
    "file_sizes = [get_file_mb_size(f) for f in file_format_dict.values()]\n",
    "file_sizes"
   ]
  },
  {
   "cell_type": "markdown",
   "metadata": {},
   "source": [
    "## 获取Wall Times，分成save_t和read_t"
   ]
  },
  {
   "cell_type": "code",
   "execution_count": 37,
   "metadata": {},
   "outputs": [],
   "source": [
    "outputs = ''"
   ]
  },
  {
   "cell_type": "code",
   "execution_count": 38,
   "metadata": {},
   "outputs": [
    {
     "data": {
      "application/javascript": [
       "\n",
       "// 获取当前页面上的Wall Times\n",
       "//通过class获取标签元素,得到的是包含对象的数组 (IE8+ 支持)\n",
       "var elems = document.querySelectorAll('div.output_subarea > pre');\n",
       "var elems_text = new Array();\n",
       "for (var i = 0; i < elems.length; i++) {\n",
       "    var txt = elems[i].textContent;\n",
       "    if(txt.indexOf('Wall time')!=-1) {\n",
       "        elems_text.push(txt);\n",
       "    }\n",
       "}\n",
       "var output_texts = elems_text.join().replace(/[\\r\\n]/g,\"\");\n",
       "// console.log(output_texts);\n",
       "\n",
       "var kernel = IPython.notebook.kernel;\n",
       "var command = \"outputs='\" + output_texts + \"'\";\n",
       "console.log(command);\n",
       "kernel.execute(command);"
      ],
      "text/plain": [
       "<IPython.core.display.Javascript object>"
      ]
     },
     "metadata": {},
     "output_type": "display_data"
    }
   ],
   "source": [
    "%%javascript\n",
    "\n",
    "// 获取当前页面上的Wall Times\n",
    "//通过class获取标签元素,得到的是包含对象的数组 (IE8+ 支持)\n",
    "var elems = document.querySelectorAll('div.output_subarea > pre');\n",
    "var elems_text = new Array();\n",
    "for (var i = 0; i < elems.length; i++) {\n",
    "    var txt = elems[i].textContent;\n",
    "    if(txt.indexOf('Wall time')!=-1) {\n",
    "        elems_text.push(txt);\n",
    "    }\n",
    "}\n",
    "var output_texts = elems_text.join().replace(/[\\r\\n]/g,\"\");\n",
    "// console.log(output_texts);\n",
    "\n",
    "var kernel = IPython.notebook.kernel;\n",
    "var command = \"outputs='\" + output_texts + \"'\";\n",
    "console.log(command);\n",
    "kernel.execute(command);"
   ]
  },
  {
   "cell_type": "code",
   "execution_count": 39,
   "metadata": {},
   "outputs": [
    {
     "name": "stdout",
     "output_type": "stream",
     "text": [
      "写入时间 ['1min 1s', '3min 3s', '2min 9s', '2.17 s', '7.46 s', '2.94 s', '11.3 s', '5.17 s', '2.38 s']\n",
      "读取时间 ['10.1 s', '15.5 s', '14.4 s', '2.5 s', '9.47 s', '7.35 s', '4.87 s', '3.74 s', '1.82 s']\n"
     ]
    }
   ],
   "source": [
    "times = outputs.replace(',', '').split('Wall time: ')[1:]\n",
    "mid = len(times)//2\n",
    "save_ts, read_ts = times[:mid], times[mid:]\n",
    "print('写入时间', save_ts)\n",
    "print('读取时间', read_ts)"
   ]
  },
  {
   "cell_type": "markdown",
   "metadata": {},
   "source": [
    "## 生成res_df"
   ]
  },
  {
   "cell_type": "code",
   "execution_count": 44,
   "metadata": {},
   "outputs": [
    {
     "data": {
      "text/html": [
       "<div>\n",
       "<style scoped>\n",
       "    .dataframe tbody tr th:only-of-type {\n",
       "        vertical-align: middle;\n",
       "    }\n",
       "\n",
       "    .dataframe tbody tr th {\n",
       "        vertical-align: top;\n",
       "    }\n",
       "\n",
       "    .dataframe thead th {\n",
       "        text-align: right;\n",
       "    }\n",
       "</style>\n",
       "<table border=\"1\" class=\"dataframe\">\n",
       "  <thead>\n",
       "    <tr style=\"text-align: right;\">\n",
       "      <th></th>\n",
       "      <th>f_format</th>\n",
       "      <th>f_name</th>\n",
       "      <th>save_t</th>\n",
       "      <th>read_t</th>\n",
       "      <th>f_size</th>\n",
       "      <th>save_t(s)</th>\n",
       "      <th>read_t(s)</th>\n",
       "      <th>f_size(MB)</th>\n",
       "    </tr>\n",
       "  </thead>\n",
       "  <tbody>\n",
       "    <tr>\n",
       "      <th>0</th>\n",
       "      <td>csv</td>\n",
       "      <td>df_csv.csv</td>\n",
       "      <td>1min 1s</td>\n",
       "      <td>10.1 s</td>\n",
       "      <td>1305.1MB</td>\n",
       "      <td>61.00</td>\n",
       "      <td>10.10</td>\n",
       "      <td>1305.10</td>\n",
       "    </tr>\n",
       "    <tr>\n",
       "      <th>1</th>\n",
       "      <td>csv+gz</td>\n",
       "      <td>df_csv.csv.gz</td>\n",
       "      <td>3min 3s</td>\n",
       "      <td>15.5 s</td>\n",
       "      <td>517.82MB</td>\n",
       "      <td>183.00</td>\n",
       "      <td>15.50</td>\n",
       "      <td>517.82</td>\n",
       "    </tr>\n",
       "    <tr>\n",
       "      <th>2</th>\n",
       "      <td>csv+zip</td>\n",
       "      <td>df_csv.csv.zip</td>\n",
       "      <td>2min 9s</td>\n",
       "      <td>14.4 s</td>\n",
       "      <td>520.17MB</td>\n",
       "      <td>129.00</td>\n",
       "      <td>14.40</td>\n",
       "      <td>520.17</td>\n",
       "    </tr>\n",
       "    <tr>\n",
       "      <th>3</th>\n",
       "      <td>pkl</td>\n",
       "      <td>df_pkl.pkl</td>\n",
       "      <td>2.17 s</td>\n",
       "      <td>2.5 s</td>\n",
       "      <td>667.67MB</td>\n",
       "      <td>2.17</td>\n",
       "      <td>2.50</td>\n",
       "      <td>667.67</td>\n",
       "    </tr>\n",
       "    <tr>\n",
       "      <th>4</th>\n",
       "      <td>npy</td>\n",
       "      <td>df_npy.npy</td>\n",
       "      <td>7.46 s</td>\n",
       "      <td>9.47 s</td>\n",
       "      <td>620.17MB</td>\n",
       "      <td>7.46</td>\n",
       "      <td>9.47</td>\n",
       "      <td>620.17</td>\n",
       "    </tr>\n",
       "    <tr>\n",
       "      <th>5</th>\n",
       "      <td>hdf</td>\n",
       "      <td>df_hdf.h5</td>\n",
       "      <td>2.94 s</td>\n",
       "      <td>7.35 s</td>\n",
       "      <td>744.99MB</td>\n",
       "      <td>2.94</td>\n",
       "      <td>7.35</td>\n",
       "      <td>744.99</td>\n",
       "    </tr>\n",
       "    <tr>\n",
       "      <th>6</th>\n",
       "      <td>hdf+zlib+lvl9</td>\n",
       "      <td>df_hdf_comp_lvl9.h5</td>\n",
       "      <td>11.3 s</td>\n",
       "      <td>4.87 s</td>\n",
       "      <td>459.22MB</td>\n",
       "      <td>11.30</td>\n",
       "      <td>4.87</td>\n",
       "      <td>459.22</td>\n",
       "    </tr>\n",
       "    <tr>\n",
       "      <th>7</th>\n",
       "      <td>parquet</td>\n",
       "      <td>df_parquet.parquet</td>\n",
       "      <td>5.17 s</td>\n",
       "      <td>3.74 s</td>\n",
       "      <td>425.82MB</td>\n",
       "      <td>5.17</td>\n",
       "      <td>3.74</td>\n",
       "      <td>425.82</td>\n",
       "    </tr>\n",
       "    <tr>\n",
       "      <th>8</th>\n",
       "      <td>feather</td>\n",
       "      <td>df_feather.feather</td>\n",
       "      <td>2.38 s</td>\n",
       "      <td>1.82 s</td>\n",
       "      <td>661.36MB</td>\n",
       "      <td>2.38</td>\n",
       "      <td>1.82</td>\n",
       "      <td>661.36</td>\n",
       "    </tr>\n",
       "  </tbody>\n",
       "</table>\n",
       "</div>"
      ],
      "text/plain": [
       "        f_format               f_name   save_t  read_t    f_size  save_t(s)  \\\n",
       "0            csv           df_csv.csv  1min 1s  10.1 s  1305.1MB      61.00   \n",
       "1         csv+gz        df_csv.csv.gz  3min 3s  15.5 s  517.82MB     183.00   \n",
       "2        csv+zip       df_csv.csv.zip  2min 9s  14.4 s  520.17MB     129.00   \n",
       "3            pkl           df_pkl.pkl   2.17 s   2.5 s  667.67MB       2.17   \n",
       "4            npy           df_npy.npy   7.46 s  9.47 s  620.17MB       7.46   \n",
       "5            hdf            df_hdf.h5   2.94 s  7.35 s  744.99MB       2.94   \n",
       "6  hdf+zlib+lvl9  df_hdf_comp_lvl9.h5   11.3 s  4.87 s  459.22MB      11.30   \n",
       "7        parquet   df_parquet.parquet   5.17 s  3.74 s  425.82MB       5.17   \n",
       "8        feather   df_feather.feather   2.38 s  1.82 s  661.36MB       2.38   \n",
       "\n",
       "   read_t(s)  f_size(MB)  \n",
       "0      10.10     1305.10  \n",
       "1      15.50      517.82  \n",
       "2      14.40      520.17  \n",
       "3       2.50      667.67  \n",
       "4       9.47      620.17  \n",
       "5       7.35      744.99  \n",
       "6       4.87      459.22  \n",
       "7       3.74      425.82  \n",
       "8       1.82      661.36  "
      ]
     },
     "execution_count": 44,
     "metadata": {},
     "output_type": "execute_result"
    }
   ],
   "source": [
    "#        文件类型  | 文件名 | 写入时间(s) | 读取时间(s)  | 存储空间(MB)\n",
    "res_df = pd.DataFrame([file_format_dict.keys(),\n",
    "                       file_format_dict.values(),\n",
    "                       save_ts,\n",
    "                       read_ts,\n",
    "                       [get_file_mb_size(f).split('：')[-1] for f in file_format_dict.values()]\n",
    "                      ]).T\n",
    "res_df.columns = ['f_format', 'f_name', 'save_t', 'read_t', 'f_size']\n",
    "\n",
    "res_df['save_t(s)'] = res_df['save_t'].apply(lambda x: x.replace('s', ''))\\\n",
    "                                        .apply(lambda x: 60*float(x.split('min')[0])+float(x.split('min')[1]) if ('min' in x) else float(x))\n",
    "res_df['read_t(s)'] = res_df['read_t'].apply(lambda x: x.replace('s', '')).astype(float)\n",
    "res_df['f_size(MB)'] = res_df['f_size'].apply(lambda x: x[:-2]).astype(float)\n",
    "\n",
    "res_df"
   ]
  },
  {
   "cell_type": "markdown",
   "metadata": {},
   "source": [
    "## 不同评价指标下降序排列（Pyecharts）"
   ]
  },
  {
   "cell_type": "code",
   "execution_count": 41,
   "metadata": {},
   "outputs": [],
   "source": [
    "from pyecharts import options as opts\n",
    "from pyecharts.charts import Tab\n",
    "from pyecharts.components import Table\n",
    "from pyecharts.options import ComponentTitleOpts"
   ]
  },
  {
   "cell_type": "code",
   "execution_count": 49,
   "metadata": {},
   "outputs": [
    {
     "data": {
      "text/html": [
       "\n",
       "<script>\n",
       "    require.config({\n",
       "        paths: {\n",
       "            \n",
       "        }\n",
       "    });\n",
       "</script>\n",
       "\n",
       "    <style>\n",
       "        .tab {\n",
       "            overflow: hidden;\n",
       "            border: 1px solid #ccc;\n",
       "            background-color: #f1f1f1;\n",
       "        }\n",
       "\n",
       "        .tab button {\n",
       "            background-color: inherit;\n",
       "            float: left;\n",
       "            border: none;\n",
       "            outline: none;\n",
       "            cursor: pointer;\n",
       "            padding: 12px 16px;\n",
       "            transition: 0.3s;\n",
       "        }\n",
       "\n",
       "        .tab button:hover {\n",
       "            background-color: #ddd;\n",
       "        }\n",
       "\n",
       "        .tab button.active {\n",
       "            background-color: #ccc;\n",
       "        }\n",
       "\n",
       "        .chart-container {\n",
       "            display: none;\n",
       "            padding: 6px 12px;\n",
       "            border-top: none;\n",
       "        }\n",
       "    </style>\n",
       "<div class=\"tab\">\n",
       "            <button class=\"tablinks\" onclick=\"showChart(event, 'b628f10e2f194b2f828646b9040e531a')\">Origin</button>\n",
       "            <button class=\"tablinks\" onclick=\"showChart(event, '3c10a15ac75747a9bc95dd2bb2763755')\">save_t降序</button>\n",
       "            <button class=\"tablinks\" onclick=\"showChart(event, '4598f44d805a49e2b5e158c9fadea261')\">read_t降序</button>\n",
       "            <button class=\"tablinks\" onclick=\"showChart(event, '0cb4a0322dd04644b429b1fabe154f86')\">f_size降序</button>\n",
       "    </div>\n",
       "\n",
       "                <style>\n",
       "            .fl-table {\n",
       "                margin: 20px;\n",
       "                border-radius: 5px;\n",
       "                font-size: 12px;\n",
       "                border: none;\n",
       "                border-collapse: collapse;\n",
       "                max-width: 100%;\n",
       "                white-space: nowrap;\n",
       "                word-break: keep-all;\n",
       "            }\n",
       "\n",
       "            .fl-table th {\n",
       "                text-align: left;\n",
       "                font-size: 20px;\n",
       "            }\n",
       "\n",
       "            .fl-table tr {\n",
       "                display: table-row;\n",
       "                vertical-align: inherit;\n",
       "                border-color: inherit;\n",
       "            }\n",
       "\n",
       "            .fl-table tr:hover td {\n",
       "                background: #00d1b2;\n",
       "                color: #F8F8F8;\n",
       "            }\n",
       "\n",
       "            .fl-table td, .fl-table th {\n",
       "                border-style: none;\n",
       "                border-top: 1px solid #dbdbdb;\n",
       "                border-left: 1px solid #dbdbdb;\n",
       "                border-bottom: 3px solid #dbdbdb;\n",
       "                border-right: 1px solid #dbdbdb;\n",
       "                padding: .5em .55em;\n",
       "                font-size: 15px;\n",
       "            }\n",
       "\n",
       "            .fl-table td {\n",
       "                border-style: none;\n",
       "                font-size: 15px;\n",
       "                vertical-align: center;\n",
       "                border-bottom: 1px solid #dbdbdb;\n",
       "                border-left: 1px solid #dbdbdb;\n",
       "                border-right: 1px solid #dbdbdb;\n",
       "                height: 30px;\n",
       "            }\n",
       "\n",
       "            .fl-table tr:nth-child(even) {\n",
       "                background: #F8F8F8;\n",
       "            }\n",
       "        </style>\n",
       "        <div id=\"b628f10e2f194b2f828646b9040e531a\" class=\"chart-container\" style=\"\">\n",
       "            <p class=\"title\" style=\"font-size: 18px; font-weight:bold;\" > Top100</p>\n",
       "            <p class=\"subtitle\" style=\"font-size: 12px;\" > </p>\n",
       "            <table class=\"fl-table\">\n",
       "    <thead>\n",
       "        <tr>\n",
       "            <th>f_format</th>\n",
       "            <th>f_name</th>\n",
       "            <th>save_t</th>\n",
       "            <th>read_t</th>\n",
       "            <th>f_size</th>\n",
       "            <th>save_t(s)</th>\n",
       "            <th>read_t(s)</th>\n",
       "            <th>f_size(MB)</th>\n",
       "        </tr>\n",
       "    </thead>\n",
       "    <tbody>\n",
       "        <tr>\n",
       "            <td>csv</td>\n",
       "            <td>df_csv.csv</td>\n",
       "            <td>1min 1s</td>\n",
       "            <td>10.1 s</td>\n",
       "            <td>1305.1MB</td>\n",
       "            <td>61.0</td>\n",
       "            <td>10.1</td>\n",
       "            <td>1305.1</td>\n",
       "        </tr>\n",
       "        <tr>\n",
       "            <td>csv+gz</td>\n",
       "            <td>df_csv.csv.gz</td>\n",
       "            <td>3min 3s</td>\n",
       "            <td>15.5 s</td>\n",
       "            <td>517.82MB</td>\n",
       "            <td>183.0</td>\n",
       "            <td>15.5</td>\n",
       "            <td>517.82</td>\n",
       "        </tr>\n",
       "        <tr>\n",
       "            <td>csv+zip</td>\n",
       "            <td>df_csv.csv.zip</td>\n",
       "            <td>2min 9s</td>\n",
       "            <td>14.4 s</td>\n",
       "            <td>520.17MB</td>\n",
       "            <td>129.0</td>\n",
       "            <td>14.4</td>\n",
       "            <td>520.17</td>\n",
       "        </tr>\n",
       "        <tr>\n",
       "            <td>pkl</td>\n",
       "            <td>df_pkl.pkl</td>\n",
       "            <td>2.17 s</td>\n",
       "            <td>2.5 s</td>\n",
       "            <td>667.67MB</td>\n",
       "            <td>2.17</td>\n",
       "            <td>2.5</td>\n",
       "            <td>667.67</td>\n",
       "        </tr>\n",
       "        <tr>\n",
       "            <td>npy</td>\n",
       "            <td>df_npy.npy</td>\n",
       "            <td>7.46 s</td>\n",
       "            <td>9.47 s</td>\n",
       "            <td>620.17MB</td>\n",
       "            <td>7.46</td>\n",
       "            <td>9.47</td>\n",
       "            <td>620.17</td>\n",
       "        </tr>\n",
       "        <tr>\n",
       "            <td>hdf</td>\n",
       "            <td>df_hdf.h5</td>\n",
       "            <td>2.94 s</td>\n",
       "            <td>7.35 s</td>\n",
       "            <td>744.99MB</td>\n",
       "            <td>2.94</td>\n",
       "            <td>7.35</td>\n",
       "            <td>744.99</td>\n",
       "        </tr>\n",
       "        <tr>\n",
       "            <td>hdf+zlib+lvl9</td>\n",
       "            <td>df_hdf_comp_lvl9.h5</td>\n",
       "            <td>11.3 s</td>\n",
       "            <td>4.87 s</td>\n",
       "            <td>459.22MB</td>\n",
       "            <td>11.3</td>\n",
       "            <td>4.87</td>\n",
       "            <td>459.22</td>\n",
       "        </tr>\n",
       "        <tr>\n",
       "            <td>parquet</td>\n",
       "            <td>df_parquet.parquet</td>\n",
       "            <td>5.17 s</td>\n",
       "            <td>3.74 s</td>\n",
       "            <td>425.82MB</td>\n",
       "            <td>5.17</td>\n",
       "            <td>3.74</td>\n",
       "            <td>425.82</td>\n",
       "        </tr>\n",
       "        <tr>\n",
       "            <td>feather</td>\n",
       "            <td>df_feather.feather</td>\n",
       "            <td>2.38 s</td>\n",
       "            <td>1.82 s</td>\n",
       "            <td>661.36MB</td>\n",
       "            <td>2.38</td>\n",
       "            <td>1.82</td>\n",
       "            <td>661.36</td>\n",
       "        </tr>\n",
       "    </tbody>\n",
       "</table>\n",
       "        </div>\n",
       "\n",
       "                <style>\n",
       "            .fl-table {\n",
       "                margin: 20px;\n",
       "                border-radius: 5px;\n",
       "                font-size: 12px;\n",
       "                border: none;\n",
       "                border-collapse: collapse;\n",
       "                max-width: 100%;\n",
       "                white-space: nowrap;\n",
       "                word-break: keep-all;\n",
       "            }\n",
       "\n",
       "            .fl-table th {\n",
       "                text-align: left;\n",
       "                font-size: 20px;\n",
       "            }\n",
       "\n",
       "            .fl-table tr {\n",
       "                display: table-row;\n",
       "                vertical-align: inherit;\n",
       "                border-color: inherit;\n",
       "            }\n",
       "\n",
       "            .fl-table tr:hover td {\n",
       "                background: #00d1b2;\n",
       "                color: #F8F8F8;\n",
       "            }\n",
       "\n",
       "            .fl-table td, .fl-table th {\n",
       "                border-style: none;\n",
       "                border-top: 1px solid #dbdbdb;\n",
       "                border-left: 1px solid #dbdbdb;\n",
       "                border-bottom: 3px solid #dbdbdb;\n",
       "                border-right: 1px solid #dbdbdb;\n",
       "                padding: .5em .55em;\n",
       "                font-size: 15px;\n",
       "            }\n",
       "\n",
       "            .fl-table td {\n",
       "                border-style: none;\n",
       "                font-size: 15px;\n",
       "                vertical-align: center;\n",
       "                border-bottom: 1px solid #dbdbdb;\n",
       "                border-left: 1px solid #dbdbdb;\n",
       "                border-right: 1px solid #dbdbdb;\n",
       "                height: 30px;\n",
       "            }\n",
       "\n",
       "            .fl-table tr:nth-child(even) {\n",
       "                background: #F8F8F8;\n",
       "            }\n",
       "        </style>\n",
       "        <div id=\"3c10a15ac75747a9bc95dd2bb2763755\" class=\"chart-container\" style=\"\">\n",
       "            <p class=\"title\" style=\"font-size: 18px; font-weight:bold;\" > Top100</p>\n",
       "            <p class=\"subtitle\" style=\"font-size: 12px;\" > </p>\n",
       "            <table class=\"fl-table\">\n",
       "    <thead>\n",
       "        <tr>\n",
       "            <th>f_format</th>\n",
       "            <th>f_name</th>\n",
       "            <th>save_t</th>\n",
       "            <th>read_t</th>\n",
       "            <th>f_size</th>\n",
       "            <th>save_t(s)</th>\n",
       "            <th>read_t(s)</th>\n",
       "            <th>f_size(MB)</th>\n",
       "            <th>save_t(s) rank</th>\n",
       "        </tr>\n",
       "    </thead>\n",
       "    <tbody>\n",
       "        <tr>\n",
       "            <td>pkl</td>\n",
       "            <td>df_pkl.pkl</td>\n",
       "            <td>2.17 s</td>\n",
       "            <td>2.5 s</td>\n",
       "            <td>667.67MB</td>\n",
       "            <td>2.17</td>\n",
       "            <td>2.5</td>\n",
       "            <td>667.67</td>\n",
       "            <td>1</td>\n",
       "        </tr>\n",
       "        <tr>\n",
       "            <td>feather</td>\n",
       "            <td>df_feather.feather</td>\n",
       "            <td>2.38 s</td>\n",
       "            <td>1.82 s</td>\n",
       "            <td>661.36MB</td>\n",
       "            <td>2.38</td>\n",
       "            <td>1.82</td>\n",
       "            <td>661.36</td>\n",
       "            <td>2</td>\n",
       "        </tr>\n",
       "        <tr>\n",
       "            <td>hdf</td>\n",
       "            <td>df_hdf.h5</td>\n",
       "            <td>2.94 s</td>\n",
       "            <td>7.35 s</td>\n",
       "            <td>744.99MB</td>\n",
       "            <td>2.94</td>\n",
       "            <td>7.35</td>\n",
       "            <td>744.99</td>\n",
       "            <td>3</td>\n",
       "        </tr>\n",
       "        <tr>\n",
       "            <td>parquet</td>\n",
       "            <td>df_parquet.parquet</td>\n",
       "            <td>5.17 s</td>\n",
       "            <td>3.74 s</td>\n",
       "            <td>425.82MB</td>\n",
       "            <td>5.17</td>\n",
       "            <td>3.74</td>\n",
       "            <td>425.82</td>\n",
       "            <td>4</td>\n",
       "        </tr>\n",
       "        <tr>\n",
       "            <td>npy</td>\n",
       "            <td>df_npy.npy</td>\n",
       "            <td>7.46 s</td>\n",
       "            <td>9.47 s</td>\n",
       "            <td>620.17MB</td>\n",
       "            <td>7.46</td>\n",
       "            <td>9.47</td>\n",
       "            <td>620.17</td>\n",
       "            <td>5</td>\n",
       "        </tr>\n",
       "        <tr>\n",
       "            <td>hdf+zlib+lvl9</td>\n",
       "            <td>df_hdf_comp_lvl9.h5</td>\n",
       "            <td>11.3 s</td>\n",
       "            <td>4.87 s</td>\n",
       "            <td>459.22MB</td>\n",
       "            <td>11.3</td>\n",
       "            <td>4.87</td>\n",
       "            <td>459.22</td>\n",
       "            <td>6</td>\n",
       "        </tr>\n",
       "        <tr>\n",
       "            <td>csv</td>\n",
       "            <td>df_csv.csv</td>\n",
       "            <td>1min 1s</td>\n",
       "            <td>10.1 s</td>\n",
       "            <td>1305.1MB</td>\n",
       "            <td>61.0</td>\n",
       "            <td>10.1</td>\n",
       "            <td>1305.1</td>\n",
       "            <td>7</td>\n",
       "        </tr>\n",
       "        <tr>\n",
       "            <td>csv+zip</td>\n",
       "            <td>df_csv.csv.zip</td>\n",
       "            <td>2min 9s</td>\n",
       "            <td>14.4 s</td>\n",
       "            <td>520.17MB</td>\n",
       "            <td>129.0</td>\n",
       "            <td>14.4</td>\n",
       "            <td>520.17</td>\n",
       "            <td>8</td>\n",
       "        </tr>\n",
       "        <tr>\n",
       "            <td>csv+gz</td>\n",
       "            <td>df_csv.csv.gz</td>\n",
       "            <td>3min 3s</td>\n",
       "            <td>15.5 s</td>\n",
       "            <td>517.82MB</td>\n",
       "            <td>183.0</td>\n",
       "            <td>15.5</td>\n",
       "            <td>517.82</td>\n",
       "            <td>9</td>\n",
       "        </tr>\n",
       "    </tbody>\n",
       "</table>\n",
       "        </div>\n",
       "\n",
       "                <style>\n",
       "            .fl-table {\n",
       "                margin: 20px;\n",
       "                border-radius: 5px;\n",
       "                font-size: 12px;\n",
       "                border: none;\n",
       "                border-collapse: collapse;\n",
       "                max-width: 100%;\n",
       "                white-space: nowrap;\n",
       "                word-break: keep-all;\n",
       "            }\n",
       "\n",
       "            .fl-table th {\n",
       "                text-align: left;\n",
       "                font-size: 20px;\n",
       "            }\n",
       "\n",
       "            .fl-table tr {\n",
       "                display: table-row;\n",
       "                vertical-align: inherit;\n",
       "                border-color: inherit;\n",
       "            }\n",
       "\n",
       "            .fl-table tr:hover td {\n",
       "                background: #00d1b2;\n",
       "                color: #F8F8F8;\n",
       "            }\n",
       "\n",
       "            .fl-table td, .fl-table th {\n",
       "                border-style: none;\n",
       "                border-top: 1px solid #dbdbdb;\n",
       "                border-left: 1px solid #dbdbdb;\n",
       "                border-bottom: 3px solid #dbdbdb;\n",
       "                border-right: 1px solid #dbdbdb;\n",
       "                padding: .5em .55em;\n",
       "                font-size: 15px;\n",
       "            }\n",
       "\n",
       "            .fl-table td {\n",
       "                border-style: none;\n",
       "                font-size: 15px;\n",
       "                vertical-align: center;\n",
       "                border-bottom: 1px solid #dbdbdb;\n",
       "                border-left: 1px solid #dbdbdb;\n",
       "                border-right: 1px solid #dbdbdb;\n",
       "                height: 30px;\n",
       "            }\n",
       "\n",
       "            .fl-table tr:nth-child(even) {\n",
       "                background: #F8F8F8;\n",
       "            }\n",
       "        </style>\n",
       "        <div id=\"4598f44d805a49e2b5e158c9fadea261\" class=\"chart-container\" style=\"\">\n",
       "            <p class=\"title\" style=\"font-size: 18px; font-weight:bold;\" > Top100</p>\n",
       "            <p class=\"subtitle\" style=\"font-size: 12px;\" > </p>\n",
       "            <table class=\"fl-table\">\n",
       "    <thead>\n",
       "        <tr>\n",
       "            <th>f_format</th>\n",
       "            <th>f_name</th>\n",
       "            <th>save_t</th>\n",
       "            <th>read_t</th>\n",
       "            <th>f_size</th>\n",
       "            <th>save_t(s)</th>\n",
       "            <th>read_t(s)</th>\n",
       "            <th>f_size(MB)</th>\n",
       "            <th>read_t(s) rank</th>\n",
       "        </tr>\n",
       "    </thead>\n",
       "    <tbody>\n",
       "        <tr>\n",
       "            <td>feather</td>\n",
       "            <td>df_feather.feather</td>\n",
       "            <td>2.38 s</td>\n",
       "            <td>1.82 s</td>\n",
       "            <td>661.36MB</td>\n",
       "            <td>2.38</td>\n",
       "            <td>1.82</td>\n",
       "            <td>661.36</td>\n",
       "            <td>1</td>\n",
       "        </tr>\n",
       "        <tr>\n",
       "            <td>pkl</td>\n",
       "            <td>df_pkl.pkl</td>\n",
       "            <td>2.17 s</td>\n",
       "            <td>2.5 s</td>\n",
       "            <td>667.67MB</td>\n",
       "            <td>2.17</td>\n",
       "            <td>2.5</td>\n",
       "            <td>667.67</td>\n",
       "            <td>2</td>\n",
       "        </tr>\n",
       "        <tr>\n",
       "            <td>parquet</td>\n",
       "            <td>df_parquet.parquet</td>\n",
       "            <td>5.17 s</td>\n",
       "            <td>3.74 s</td>\n",
       "            <td>425.82MB</td>\n",
       "            <td>5.17</td>\n",
       "            <td>3.74</td>\n",
       "            <td>425.82</td>\n",
       "            <td>3</td>\n",
       "        </tr>\n",
       "        <tr>\n",
       "            <td>hdf+zlib+lvl9</td>\n",
       "            <td>df_hdf_comp_lvl9.h5</td>\n",
       "            <td>11.3 s</td>\n",
       "            <td>4.87 s</td>\n",
       "            <td>459.22MB</td>\n",
       "            <td>11.3</td>\n",
       "            <td>4.87</td>\n",
       "            <td>459.22</td>\n",
       "            <td>4</td>\n",
       "        </tr>\n",
       "        <tr>\n",
       "            <td>hdf</td>\n",
       "            <td>df_hdf.h5</td>\n",
       "            <td>2.94 s</td>\n",
       "            <td>7.35 s</td>\n",
       "            <td>744.99MB</td>\n",
       "            <td>2.94</td>\n",
       "            <td>7.35</td>\n",
       "            <td>744.99</td>\n",
       "            <td>5</td>\n",
       "        </tr>\n",
       "        <tr>\n",
       "            <td>npy</td>\n",
       "            <td>df_npy.npy</td>\n",
       "            <td>7.46 s</td>\n",
       "            <td>9.47 s</td>\n",
       "            <td>620.17MB</td>\n",
       "            <td>7.46</td>\n",
       "            <td>9.47</td>\n",
       "            <td>620.17</td>\n",
       "            <td>6</td>\n",
       "        </tr>\n",
       "        <tr>\n",
       "            <td>csv</td>\n",
       "            <td>df_csv.csv</td>\n",
       "            <td>1min 1s</td>\n",
       "            <td>10.1 s</td>\n",
       "            <td>1305.1MB</td>\n",
       "            <td>61.0</td>\n",
       "            <td>10.1</td>\n",
       "            <td>1305.1</td>\n",
       "            <td>7</td>\n",
       "        </tr>\n",
       "        <tr>\n",
       "            <td>csv+zip</td>\n",
       "            <td>df_csv.csv.zip</td>\n",
       "            <td>2min 9s</td>\n",
       "            <td>14.4 s</td>\n",
       "            <td>520.17MB</td>\n",
       "            <td>129.0</td>\n",
       "            <td>14.4</td>\n",
       "            <td>520.17</td>\n",
       "            <td>8</td>\n",
       "        </tr>\n",
       "        <tr>\n",
       "            <td>csv+gz</td>\n",
       "            <td>df_csv.csv.gz</td>\n",
       "            <td>3min 3s</td>\n",
       "            <td>15.5 s</td>\n",
       "            <td>517.82MB</td>\n",
       "            <td>183.0</td>\n",
       "            <td>15.5</td>\n",
       "            <td>517.82</td>\n",
       "            <td>9</td>\n",
       "        </tr>\n",
       "    </tbody>\n",
       "</table>\n",
       "        </div>\n",
       "\n",
       "                <style>\n",
       "            .fl-table {\n",
       "                margin: 20px;\n",
       "                border-radius: 5px;\n",
       "                font-size: 12px;\n",
       "                border: none;\n",
       "                border-collapse: collapse;\n",
       "                max-width: 100%;\n",
       "                white-space: nowrap;\n",
       "                word-break: keep-all;\n",
       "            }\n",
       "\n",
       "            .fl-table th {\n",
       "                text-align: left;\n",
       "                font-size: 20px;\n",
       "            }\n",
       "\n",
       "            .fl-table tr {\n",
       "                display: table-row;\n",
       "                vertical-align: inherit;\n",
       "                border-color: inherit;\n",
       "            }\n",
       "\n",
       "            .fl-table tr:hover td {\n",
       "                background: #00d1b2;\n",
       "                color: #F8F8F8;\n",
       "            }\n",
       "\n",
       "            .fl-table td, .fl-table th {\n",
       "                border-style: none;\n",
       "                border-top: 1px solid #dbdbdb;\n",
       "                border-left: 1px solid #dbdbdb;\n",
       "                border-bottom: 3px solid #dbdbdb;\n",
       "                border-right: 1px solid #dbdbdb;\n",
       "                padding: .5em .55em;\n",
       "                font-size: 15px;\n",
       "            }\n",
       "\n",
       "            .fl-table td {\n",
       "                border-style: none;\n",
       "                font-size: 15px;\n",
       "                vertical-align: center;\n",
       "                border-bottom: 1px solid #dbdbdb;\n",
       "                border-left: 1px solid #dbdbdb;\n",
       "                border-right: 1px solid #dbdbdb;\n",
       "                height: 30px;\n",
       "            }\n",
       "\n",
       "            .fl-table tr:nth-child(even) {\n",
       "                background: #F8F8F8;\n",
       "            }\n",
       "        </style>\n",
       "        <div id=\"0cb4a0322dd04644b429b1fabe154f86\" class=\"chart-container\" style=\"\">\n",
       "            <p class=\"title\" style=\"font-size: 18px; font-weight:bold;\" > Top100</p>\n",
       "            <p class=\"subtitle\" style=\"font-size: 12px;\" > </p>\n",
       "            <table class=\"fl-table\">\n",
       "    <thead>\n",
       "        <tr>\n",
       "            <th>f_format</th>\n",
       "            <th>f_name</th>\n",
       "            <th>save_t</th>\n",
       "            <th>read_t</th>\n",
       "            <th>f_size</th>\n",
       "            <th>save_t(s)</th>\n",
       "            <th>read_t(s)</th>\n",
       "            <th>f_size(MB)</th>\n",
       "            <th>f_size(MB) rank</th>\n",
       "        </tr>\n",
       "    </thead>\n",
       "    <tbody>\n",
       "        <tr>\n",
       "            <td>parquet</td>\n",
       "            <td>df_parquet.parquet</td>\n",
       "            <td>5.17 s</td>\n",
       "            <td>3.74 s</td>\n",
       "            <td>425.82MB</td>\n",
       "            <td>5.17</td>\n",
       "            <td>3.74</td>\n",
       "            <td>425.82</td>\n",
       "            <td>1</td>\n",
       "        </tr>\n",
       "        <tr>\n",
       "            <td>hdf+zlib+lvl9</td>\n",
       "            <td>df_hdf_comp_lvl9.h5</td>\n",
       "            <td>11.3 s</td>\n",
       "            <td>4.87 s</td>\n",
       "            <td>459.22MB</td>\n",
       "            <td>11.3</td>\n",
       "            <td>4.87</td>\n",
       "            <td>459.22</td>\n",
       "            <td>2</td>\n",
       "        </tr>\n",
       "        <tr>\n",
       "            <td>csv+gz</td>\n",
       "            <td>df_csv.csv.gz</td>\n",
       "            <td>3min 3s</td>\n",
       "            <td>15.5 s</td>\n",
       "            <td>517.82MB</td>\n",
       "            <td>183.0</td>\n",
       "            <td>15.5</td>\n",
       "            <td>517.82</td>\n",
       "            <td>3</td>\n",
       "        </tr>\n",
       "        <tr>\n",
       "            <td>csv+zip</td>\n",
       "            <td>df_csv.csv.zip</td>\n",
       "            <td>2min 9s</td>\n",
       "            <td>14.4 s</td>\n",
       "            <td>520.17MB</td>\n",
       "            <td>129.0</td>\n",
       "            <td>14.4</td>\n",
       "            <td>520.17</td>\n",
       "            <td>4</td>\n",
       "        </tr>\n",
       "        <tr>\n",
       "            <td>npy</td>\n",
       "            <td>df_npy.npy</td>\n",
       "            <td>7.46 s</td>\n",
       "            <td>9.47 s</td>\n",
       "            <td>620.17MB</td>\n",
       "            <td>7.46</td>\n",
       "            <td>9.47</td>\n",
       "            <td>620.17</td>\n",
       "            <td>5</td>\n",
       "        </tr>\n",
       "        <tr>\n",
       "            <td>feather</td>\n",
       "            <td>df_feather.feather</td>\n",
       "            <td>2.38 s</td>\n",
       "            <td>1.82 s</td>\n",
       "            <td>661.36MB</td>\n",
       "            <td>2.38</td>\n",
       "            <td>1.82</td>\n",
       "            <td>661.36</td>\n",
       "            <td>6</td>\n",
       "        </tr>\n",
       "        <tr>\n",
       "            <td>pkl</td>\n",
       "            <td>df_pkl.pkl</td>\n",
       "            <td>2.17 s</td>\n",
       "            <td>2.5 s</td>\n",
       "            <td>667.67MB</td>\n",
       "            <td>2.17</td>\n",
       "            <td>2.5</td>\n",
       "            <td>667.67</td>\n",
       "            <td>7</td>\n",
       "        </tr>\n",
       "        <tr>\n",
       "            <td>hdf</td>\n",
       "            <td>df_hdf.h5</td>\n",
       "            <td>2.94 s</td>\n",
       "            <td>7.35 s</td>\n",
       "            <td>744.99MB</td>\n",
       "            <td>2.94</td>\n",
       "            <td>7.35</td>\n",
       "            <td>744.99</td>\n",
       "            <td>8</td>\n",
       "        </tr>\n",
       "        <tr>\n",
       "            <td>csv</td>\n",
       "            <td>df_csv.csv</td>\n",
       "            <td>1min 1s</td>\n",
       "            <td>10.1 s</td>\n",
       "            <td>1305.1MB</td>\n",
       "            <td>61.0</td>\n",
       "            <td>10.1</td>\n",
       "            <td>1305.1</td>\n",
       "            <td>9</td>\n",
       "        </tr>\n",
       "    </tbody>\n",
       "</table>\n",
       "        </div>\n",
       "\n",
       "\n",
       "<script>\n",
       "        require([], function(echarts) {\n",
       "        });\n",
       "    </script>\n",
       "<script>\n",
       "        (function() {\n",
       "            containers = document.getElementsByClassName(\"chart-container\");\n",
       "            if(containers.length > 0) {\n",
       "                containers[0].style.display = \"block\";\n",
       "            }\n",
       "        })()\n",
       "\n",
       "        function showChart(evt, chartID) {\n",
       "            let containers = document.getElementsByClassName(\"chart-container\");\n",
       "            for (let i = 0; i < containers.length; i++) {\n",
       "                containers[i].style.display = \"none\";\n",
       "            }\n",
       "\n",
       "            let tablinks = document.getElementsByClassName(\"tablinks\");\n",
       "            for (let i = 0; i < tablinks.length; i++) {\n",
       "                tablinks[i].className = \"tablinks\";\n",
       "            }\n",
       "\n",
       "            document.getElementById(chartID).style.display = \"block\";\n",
       "            evt.currentTarget.className += \" active\";\n",
       "        }\n",
       "    </script>\n"
      ],
      "text/plain": [
       "<pyecharts.render.display.HTML at 0x237694dc320>"
      ]
     },
     "execution_count": 49,
     "metadata": {},
     "output_type": "execute_result"
    }
   ],
   "source": [
    "def gen_pyechart_table(data_df, col_name=None):\n",
    "    show_df = data_df.copy()\n",
    "    if col_name:\n",
    "        show_df['{} rank'.format(col_name)] = show_df[col_name].rank().astype(int)\n",
    "        show_df.sort_values('{} rank'.format(col_name), ascending=True, inplace=True)\n",
    "    \n",
    "    table = Table()\n",
    "    headers = list(show_df.columns)\n",
    "    rows = [list(row) for i, row in show_df.iterrows()]\n",
    "    table.add(headers, rows)\n",
    "    table.set_global_opts(\n",
    "        title_opts=ComponentTitleOpts(title=\"Top100\")\n",
    "    )\n",
    "    return table\n",
    "\n",
    "tab = Tab()\n",
    "tab.add(gen_pyechart_table(res_df), \"Origin\")\n",
    "tab.add(gen_pyechart_table(res_df, 'save_t(s)'), \"save_t降序\")\n",
    "tab.add(gen_pyechart_table(res_df, 'read_t(s)'), \"read_t降序\")\n",
    "tab.add(gen_pyechart_table(res_df, 'f_size(MB)'), \"f_size降序\")\n",
    "tab.render_notebook()"
   ]
  },
  {
   "cell_type": "markdown",
   "metadata": {},
   "source": [
    "# 删除全部数据文件"
   ]
  },
  {
   "cell_type": "code",
   "execution_count": 90,
   "metadata": {},
   "outputs": [
    {
     "name": "stdout",
     "output_type": "stream",
     "text": [
      "df_csv.csv Delete~\n",
      "df_csv.csv.gz Delete~\n",
      "df_csv.csv.zip Delete~\n",
      "df_pkl.pkl Delete~\n",
      "df_npy.npy Delete~\n",
      "df_hdf.h5 Delete~\n",
      "df_hdf_comp_lvl9.h5 Delete~\n",
      "df_parquet.parquet Delete~\n",
      "df_feather.feather Delete~\n",
      "Done~\n"
     ]
    }
   ],
   "source": [
    "for v in file_format_dict.values():\n",
    "    print('{} Delete~'.format(v))\n",
    "    os.remove(v)\n",
    "print('Done~')"
   ]
  },
  {
   "cell_type": "code",
   "execution_count": null,
   "metadata": {},
   "outputs": [],
   "source": []
  }
 ],
 "metadata": {
  "kernelspec": {
   "display_name": "Python 3",
   "language": "python",
   "name": "python3"
  },
  "language_info": {
   "codemirror_mode": {
    "name": "ipython",
    "version": 3
   },
   "file_extension": ".py",
   "mimetype": "text/x-python",
   "name": "python",
   "nbconvert_exporter": "python",
   "pygments_lexer": "ipython3",
   "version": "3.7.0"
  },
  "toc": {
   "base_numbering": 1,
   "nav_menu": {},
   "number_sections": true,
   "sideBar": true,
   "skip_h1_title": false,
   "title_cell": "Table of Contents",
   "title_sidebar": "Contents",
   "toc_cell": false,
   "toc_position": {
    "height": "calc(100% - 180px)",
    "left": "10px",
    "top": "150px",
    "width": "323.837px"
   },
   "toc_section_display": true,
   "toc_window_display": true
  }
 },
 "nbformat": 4,
 "nbformat_minor": 2
}
